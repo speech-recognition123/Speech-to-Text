{
 "cells": [
  {
   "cell_type": "markdown",
   "id": "f8db0861",
   "metadata": {},
   "source": [
    "# Meta Data Generator"
   ]
  },
  {
   "cell_type": "code",
   "execution_count": 1,
   "id": "85654b1e-0b7c-44fe-9cdb-6194da5a85f1",
   "metadata": {},
   "outputs": [],
   "source": [
    "# importing essential modules\n",
    "import os, sys\n",
    "import librosa\n",
    "import json\n",
    "import pandas as pd \n",
    "from sklearn.model_selection import train_test_split\n",
    "\n",
    "# importing scripts \n",
    "sys.path.insert(0, '../scripts/')\n",
    "from create_desc_json import create_desc_json"
   ]
  },
  {
   "cell_type": "markdown",
   "id": "cec10cb3-2bae-4a9f-884c-a6fefdf321b3",
   "metadata": {},
   "source": [
    "# Test meta-data"
   ]
  },
  {
   "cell_type": "code",
   "execution_count": 2,
   "id": "73efcd6d-2859-4808-9f86-24b552caf0c7",
   "metadata": {},
   "outputs": [],
   "source": [
    "js_trs = create_desc_json()"
   ]
  },
  {
   "cell_type": "code",
   "execution_count": 3,
   "id": "4aa9e3ba-e7fa-439f-a6f4-7ae1d2e6b3e3",
   "metadata": {},
   "outputs": [],
   "source": [
    "test_transcription = js_trs.translation_loader(\"../ALFFA_PUBLIC/ASR/AMHARIC/data/test/trsTest.txt\")"
   ]
  },
  {
   "cell_type": "code",
   "execution_count": 6,
   "id": "cfe90eb6-84ab-4333-b61f-fb1cff001f94",
   "metadata": {},
   "outputs": [
    {
     "data": {
      "text/plain": [
       "{'01_d501022': ' በዚህ ም አነስተኛ መስኖ ዎችን በ ማስፋፋት አገሪቱ ን በ ተደጋጋሚ ከሚ ያጠቃ ት ድርቅ ና የ ምግብ እህል እጥረት ለ ማቃለል እንደሚ ቻል ጠቁ መዋል ',\n",
       " '01_d501023': ' ይህ እንዳይሆን በ ህይወታቸው መስዋእትነት ያስገኙ ትን የ ኢትዮጵያዊ ነት ክብር አንግ በ ን ለ ቅድስት ሀገራችን አንድነት ና ሉአላዊነት ሰላም ና ብልጽግና በ ህብረት እንቁ ም ',\n",
       " '01_d501024': ' የመጀመሪያ ው ነጥብ በ ተቃዋሚ ሀይሎች ሰፈር በ ጋራ አቋም ላይ በ ጋራ ለ ማቆም ያየነው ጽናት አነስተኛ መሆኑ ነው ',\n",
       " '01_d501025': ' አቅም በሚ ፈቅደው መሰረት አስቀድሞ መዘጋጀት ስለሚ ፈልጉ የሚ ያጠራጥር አይሆን ም ስትል የ አሜሪካ ድምጽ ዜና ዘጋቢ ገልጻ ለች ',\n",
       " '01_d501026': ' ከ ለ ቀስተኞቹ መካከል አብዛኛዎቹ ጸሀዩ ዛሬ ተገለጠ ሀይለስላሴ ማሩን አለማችን አባታችን የ አፍሪካ አባት የ አለም አባት በ ማለት ነበር ሀዘና ቸውን የሚገልጹ ',\n",
       " '01_d501027': ' ከዚህ ጋር ለ ሰብአዊ አገልግሎት መሰለ ፏ ም ውጤታማ መሆኗ ም አድናቆት ን አትርፎ ላታል ',\n",
       " '01_d501028': ' የ ኮሚሽኑ ውሳኔ ና የቤተ ክህነቱ ተቃውሞ ',\n",
       " '01_d501029': ' ይህንን ም ባድመን ና ሽራሮ ን በ መውረር እ ውን አ ርጓል ',\n",
       " '01_d501030': ' ጋዜጠኞች ን መለያየታቸው ብዙዎች ን አሳዝኗ ል ',\n",
       " '01_d501031': ' ባለፈው ሰኞ እ ለት ደግሞ በ ቴሌቭዥን ሌላ ሽልማት ሲ ሸለም ተ መልከት ኩ ',\n",
       " '01_d501032': ' አጠቃላይ ወጪው አስራ ስምንት ሺ ዶላር እንደሆነ ለማወቅ ተችሏል ',\n",
       " '01_d501033': ' ሌሎቹ በ ሙሉ ጤነ ኞች ናቸው ',\n",
       " '01_d501034': ' መለስ ና ኢሳያስ እርስ በ እርስ ለ መገለባበጥ እየ ሞከሩ ነው ',\n",
       " '01_d501035': ' የ አየር ሀይላችን አውሮፕላኖች ም ግዳጃ ቸውን በ ተገቢው ፈጽመው በ ሰላም ተ መልሰዋል ሲል የመንግስት ቃል አቀባይ ጽፈት ቤት መግለጫ አስ ታውቋል ',\n",
       " '01_d501036': ' ከ ሟ ቾቹ ጋር የነበሩ ሁለት ታጣቂዎች በ ሰላም እጃቸው ን መስጠታቸው ንም የ ፖሊስ መግለጫው አክሎ ገልጿ ል ',\n",
       " '01_d501037': ' ችግሮቹ ን ደግሞ ማስወገድ ነበረ ባቸው ',\n",
       " '01_d501038': ' አጋፋሪ ዎቻቸው ባ አዳ ኑም አቋማቸው ለ ነርሱ ሀር ቶ ና ሙ ቡቶ ከ ሰጡት ድጋፍ አይ ለይም ',\n",
       " '02_d502021': ' ይሄኔ መለስ ነቃ አለ ',\n",
       " '02_d502022': ' በዚህ ክልል ለ በርካታ ዜጐች ም የስራ እድል ይ ፈጥራል የሚሉ ሲ ኖሩ በተለይ ለ ሶማሊያውያን እድሉ ሰፊ እንደሆነ ተጠቅ ሷል ',\n",
       " '02_d502023': ' ድፍረት ባይሆን ብኝ ስህተት ነው '}"
      ]
     },
     "execution_count": 6,
     "metadata": {},
     "output_type": "execute_result"
    }
   ],
   "source": [
    "# Python 3.x\n",
    "from itertools import islice\n",
    "dict(islice(test_transcription.items(), 0, 20))"
   ]
  },
  {
   "cell_type": "code",
   "execution_count": 7,
   "id": "88d97980-f9ed-4434-910a-3a480d70622e",
   "metadata": {},
   "outputs": [],
   "source": [
    "filenames, target, duration_of_recordings = js_trs.meta_data(test_transcription, '../ALFFA_PUBLIC/ASR/AMHARIC/data/test/wav/')"
   ]
  },
  {
   "cell_type": "code",
   "execution_count": 8,
   "id": "afd6d9f8-dd3e-44c5-bc7e-c895002b2e6a",
   "metadata": {},
   "outputs": [],
   "source": [
    "test_data = pd.DataFrame({'key':filenames, 'duration':duration_of_recordings, 'text':target})"
   ]
  },
  {
   "cell_type": "code",
   "execution_count": 9,
   "id": "5bfd0568",
   "metadata": {
    "scrolled": false
   },
   "outputs": [
    {
     "data": {
      "text/html": [
       "<div>\n",
       "<style scoped>\n",
       "    .dataframe tbody tr th:only-of-type {\n",
       "        vertical-align: middle;\n",
       "    }\n",
       "\n",
       "    .dataframe tbody tr th {\n",
       "        vertical-align: top;\n",
       "    }\n",
       "\n",
       "    .dataframe thead th {\n",
       "        text-align: right;\n",
       "    }\n",
       "</style>\n",
       "<table border=\"1\" class=\"dataframe\">\n",
       "  <thead>\n",
       "    <tr style=\"text-align: right;\">\n",
       "      <th></th>\n",
       "      <th>key</th>\n",
       "      <th>duration</th>\n",
       "      <th>text</th>\n",
       "    </tr>\n",
       "  </thead>\n",
       "  <tbody>\n",
       "    <tr>\n",
       "      <th>0</th>\n",
       "      <td>../ALFFA_PUBLIC/ASR/AMHARIC/data/test/wav/01_d...</td>\n",
       "      <td>12.544</td>\n",
       "      <td>በዚህ ም አነስተኛ መስኖ ዎችን በ ማስፋፋት አገሪቱ ን በ ተደጋጋሚ ከሚ...</td>\n",
       "    </tr>\n",
       "    <tr>\n",
       "      <th>1</th>\n",
       "      <td>../ALFFA_PUBLIC/ASR/AMHARIC/data/test/wav/01_d...</td>\n",
       "      <td>13.696</td>\n",
       "      <td>ይህ እንዳይሆን በ ህይወታቸው መስዋእትነት ያስገኙ ትን የ ኢትዮጵያዊ ነ...</td>\n",
       "    </tr>\n",
       "    <tr>\n",
       "      <th>2</th>\n",
       "      <td>../ALFFA_PUBLIC/ASR/AMHARIC/data/test/wav/01_d...</td>\n",
       "      <td>10.752</td>\n",
       "      <td>የመጀመሪያ ው ነጥብ በ ተቃዋሚ ሀይሎች ሰፈር በ ጋራ አቋም ላይ በ ጋራ...</td>\n",
       "    </tr>\n",
       "    <tr>\n",
       "      <th>3</th>\n",
       "      <td>../ALFFA_PUBLIC/ASR/AMHARIC/data/test/wav/01_d...</td>\n",
       "      <td>11.392</td>\n",
       "      <td>አቅም በሚ ፈቅደው መሰረት አስቀድሞ መዘጋጀት ስለሚ ፈልጉ የሚ ያጠራጥር...</td>\n",
       "    </tr>\n",
       "    <tr>\n",
       "      <th>4</th>\n",
       "      <td>../ALFFA_PUBLIC/ASR/AMHARIC/data/test/wav/01_d...</td>\n",
       "      <td>16.000</td>\n",
       "      <td>ከ ለ ቀስተኞቹ መካከል አብዛኛዎቹ ጸሀዩ ዛሬ ተገለጠ ሀይለስላሴ ማሩን ...</td>\n",
       "    </tr>\n",
       "  </tbody>\n",
       "</table>\n",
       "</div>"
      ],
      "text/plain": [
       "                                                 key  duration  \\\n",
       "0  ../ALFFA_PUBLIC/ASR/AMHARIC/data/test/wav/01_d...    12.544   \n",
       "1  ../ALFFA_PUBLIC/ASR/AMHARIC/data/test/wav/01_d...    13.696   \n",
       "2  ../ALFFA_PUBLIC/ASR/AMHARIC/data/test/wav/01_d...    10.752   \n",
       "3  ../ALFFA_PUBLIC/ASR/AMHARIC/data/test/wav/01_d...    11.392   \n",
       "4  ../ALFFA_PUBLIC/ASR/AMHARIC/data/test/wav/01_d...    16.000   \n",
       "\n",
       "                                                text  \n",
       "0   በዚህ ም አነስተኛ መስኖ ዎችን በ ማስፋፋት አገሪቱ ን በ ተደጋጋሚ ከሚ...  \n",
       "1   ይህ እንዳይሆን በ ህይወታቸው መስዋእትነት ያስገኙ ትን የ ኢትዮጵያዊ ነ...  \n",
       "2   የመጀመሪያ ው ነጥብ በ ተቃዋሚ ሀይሎች ሰፈር በ ጋራ አቋም ላይ በ ጋራ...  \n",
       "3   አቅም በሚ ፈቅደው መሰረት አስቀድሞ መዘጋጀት ስለሚ ፈልጉ የሚ ያጠራጥር...  \n",
       "4   ከ ለ ቀስተኞቹ መካከል አብዛኛዎቹ ጸሀዩ ዛሬ ተገለጠ ሀይለስላሴ ማሩን ...  "
      ]
     },
     "execution_count": 9,
     "metadata": {},
     "output_type": "execute_result"
    }
   ],
   "source": [
    "test_data.head()"
   ]
  },
  {
   "cell_type": "code",
   "execution_count": 10,
   "id": "3e2ddd15",
   "metadata": {},
   "outputs": [
    {
     "data": {
      "text/plain": [
       "(358, 3)"
      ]
     },
     "execution_count": 10,
     "metadata": {},
     "output_type": "execute_result"
    }
   ],
   "source": [
    "test_data.shape"
   ]
  },
  {
   "cell_type": "markdown",
   "id": "2b60f562",
   "metadata": {},
   "source": [
    "## Saving test data as *.json"
   ]
  },
  {
   "cell_type": "code",
   "execution_count": 11,
   "id": "b677261a",
   "metadata": {},
   "outputs": [],
   "source": [
    "js_trs.convert_to_json(test_data, '../data/test_corpus.json')"
   ]
  },
  {
   "cell_type": "markdown",
   "id": "9683e341",
   "metadata": {},
   "source": [
    "# Train & Valid meta-data"
   ]
  },
  {
   "cell_type": "code",
   "execution_count": 12,
   "id": "cc04f415",
   "metadata": {},
   "outputs": [],
   "source": [
    "js_trs_train = create_desc_json()"
   ]
  },
  {
   "cell_type": "code",
   "execution_count": 14,
   "id": "831ad595",
   "metadata": {
    "scrolled": false
   },
   "outputs": [],
   "source": [
    "train_transcription = js_trs_train.translation_loader(\"../ALFFA_PUBLIC/ASR/AMHARIC/data/train/trsTrain.txt\")"
   ]
  },
  {
   "cell_type": "code",
   "execution_count": 15,
   "id": "142c9238",
   "metadata": {
    "scrolled": false
   },
   "outputs": [
    {
     "data": {
      "text/plain": [
       "{'tr_2_tr01002': ' የተ ለቀቁት ምርኮኞች በ አካባቢያቸው ሰላማዊ ኑሮ እንዲ ኖሩ የ ትራንስፖርት ና መጓጓዣ ገንዘብ ተሰጥቷ ቸው መሸኘታቸው ን አመልክቶ በ የ ዞ ናቸው እንደ ደረሱ መቃቋሚያ እንደሚ ሰጣቸው ም አስ ታውቋል ',\n",
       " 'tr_3_tr01003': ' በ አዲስ አበባው ስታዲየም በ ተካሄዱ ት ሁለት ግጥሚያ ዎች በ መጀመሪያ የ ተገናኙ ት መድን ና ሙገር ሲሚንቶ ሲ ሆኑ በ ውጤቱ ም ሶስት ለ ሶስት ተለያይ ተዋል ',\n",
       " 'tr_4_tr01004': ' ወሬው ን ወሬ ያደረጉ ምስጢረ ኞች ናቸው ',\n",
       " 'tr_5_tr01005': ' ኢትዮጵያዊ ቷ በ ብሄራዊ ባህላዊ አለባበስ ከ አለም አንደኝነት ን ተቀዳጀ ች ',\n",
       " 'tr_6_tr01006': ' ከ ትምክህት እንዳይ ቆጠር ብን እንጂ በ አለም ታሪክ ውስጥ በ ነጮች ያል ተረገጠ ች አገር ኢትዮጵያ ና ት ',\n",
       " 'tr_7_tr01007': ' እህቶቹ የኤርትራ ዜጐች ና የ ሻእቢያ ደጋፊዎች ናቸው ',\n",
       " 'tr_8_tr01008': ' እናንተ ም መቀበሪያ እንዳ ታጡ ተጠንቀቁ ',\n",
       " 'tr_9_tr01009': ' አንቶኔሊ በ አጼ ምንሊክ ፊት የ ፈጸመው ድፍረት በ ኢጣሊያ ን ምክር ቤት አስተ ቸው ',\n",
       " 'tr_10_tr01010': ' ግን ወደ ኋላው ላይ ኢሳያስ እንደ ልማ ዳቸው ሁሉን ም የ መልከ ፍ ዲፕሎማሲ ያቸው እስራኤል ንም ያስ ወር ፋቸው ጀመር ',\n",
       " 'tr_11_tr01011': ' ከ የ አቅጣጫ ው እየ ደረሷቸው ያሉ መረጃዎች አሳሳቢ ችግሮች እየ ደረሱ መሆናቸው ን የሚ ጠቁሙ መሆናቸው ን ፕሬዝዳንቱ ተናግረ ዋል ',\n",
       " 'tr_12_tr01012': ' ከ ማወቁ በፊት እንደ ተበጠበጠ ገበያ እንዳይ በታተን ይህ ነው አጀንዳ ችን ሌላ አጀንዳ የ ለ ንም ',\n",
       " 'tr_13_tr01013': ' ኢትዮጵያ ም ሰራዊቷ በ ኤርትራ እንደሚ ገኝ አል ካደ ችም ',\n",
       " 'tr_14_tr01014': ' ላቁኦተ ትምህርት ቤት መንገድ ና ሆስፒታል ተ ገንብቷል ',\n",
       " 'tr_15_tr01015': ' ኦስሪያን በ ሀገሩ አንድ ለ ዜሮ አሸንፎ ሶስት ነጥብ ይ ዟል ',\n",
       " 'tr_16_tr01016': ' ሁሴን አይዲድ እንደ ገለጹት ኢትዮጵያ ሁኔታዎች ከ ተመቻቹ ላት ሶማሊያ ን ከ መውረር ስለማ ት መለስ ከ እርቁ ይልቅ ሶማሊያ ን ከ ኢትዩጵያ ና ኢትዮጵያ ካ ደራጀ ቻቸው ሀይሎች ለ መጠበቅ መዘጋጀት ያስፈልጋ ል ',\n",
       " 'tr_17_tr01017': ' በ ሙስና ክስ የ ተመሰረተባቸው ነጋዴዎች መገናኛ ብዙሀን ን ከሰሱ ',\n",
       " 'tr_18_tr01018': ' ኢትዮጵያ የመን ና ሱዳን ኢሳያስ ን ለ ማውረድ ተስማም ተዋል ተ ባለ ',\n",
       " 'tr_19_tr01019': ' ለማ ን አቤት ማለት እንደሚ ቻል ም ግራ ገብቶ ናል በ ማለት ነጋዴ ዎቹ ብሶ ታቸውን ገልጸዋል ',\n",
       " 'tr_20_tr01020': ' በ ኢትዮጵያውያ ን ብቻ ሳን ወሰን የ ኢትዮጵያ ወዳጆች የሆኑ የ ኢትዮጵያ ታሪክ አዋቂዎች ም በ ውጪ የሚገኙ በዚህ ስራ ላይ ተሳታፊ እንዲሆኑ ጥረት አድርገ ናል ',\n",
       " 'tr_21_tr01021': ' ኢትዮጵያ ውስጥ የ ነበሩት ኤርትራውያን ም ተመሳሳይ እድል ነበራቸው '}"
      ]
     },
     "execution_count": 15,
     "metadata": {},
     "output_type": "execute_result"
    }
   ],
   "source": [
    "# Python 3.x\n",
    "from itertools import islice\n",
    "dict(islice(train_transcription.items(), 0, 20))"
   ]
  },
  {
   "cell_type": "code",
   "execution_count": 16,
   "id": "025f760d",
   "metadata": {},
   "outputs": [],
   "source": [
    "filenames, target, duration_of_recordings = js_trs_train.meta_data(train_transcription, '../ALFFA_PUBLIC/ASR/AMHARIC/data/train/wav/')"
   ]
  },
  {
   "cell_type": "code",
   "execution_count": 17,
   "id": "37790944",
   "metadata": {},
   "outputs": [],
   "source": [
    "train_data = pd.DataFrame({'key':filenames[:8699], 'duration':duration_of_recordings[:8699], 'text':target[:8699]})"
   ]
  },
  {
   "cell_type": "code",
   "execution_count": 18,
   "id": "6e0eed11",
   "metadata": {},
   "outputs": [
    {
     "data": {
      "text/plain": [
       "(8699, 3)"
      ]
     },
     "execution_count": 18,
     "metadata": {},
     "output_type": "execute_result"
    }
   ],
   "source": [
    "train_data.shape"
   ]
  },
  {
   "cell_type": "code",
   "execution_count": 19,
   "id": "cacdce1e",
   "metadata": {},
   "outputs": [],
   "source": [
    "from sklearn.model_selection import train_test_split\n",
    "train, valid = train_test_split(train_data, test_size=0.2, random_state=42)"
   ]
  },
  {
   "cell_type": "code",
   "execution_count": 20,
   "id": "dc0d2961",
   "metadata": {},
   "outputs": [],
   "source": [
    "valid_data = pd.DataFrame({'key':filenames[8699:], 'duration':duration_of_recordings[8699:], 'text':target[8699:]})"
   ]
  },
  {
   "cell_type": "code",
   "execution_count": 21,
   "id": "ebe7a381",
   "metadata": {},
   "outputs": [
    {
     "data": {
      "text/plain": [
       "(2175, 3)"
      ]
     },
     "execution_count": 21,
     "metadata": {},
     "output_type": "execute_result"
    }
   ],
   "source": [
    "valid_data.shape"
   ]
  },
  {
   "cell_type": "markdown",
   "id": "eba3fe7a",
   "metadata": {},
   "source": [
    "## Saving train data as *.json"
   ]
  },
  {
   "cell_type": "code",
   "execution_count": 22,
   "id": "f92fde95",
   "metadata": {},
   "outputs": [],
   "source": [
    "js_trs_train.convert_to_json(train_data, '../data/train_corpus.json')"
   ]
  },
  {
   "cell_type": "markdown",
   "id": "1aa36aea",
   "metadata": {},
   "source": [
    "## Saving valid data as *.json"
   ]
  },
  {
   "cell_type": "code",
   "execution_count": 23,
   "id": "e23cfddb",
   "metadata": {},
   "outputs": [],
   "source": [
    "js_trs_train.convert_to_json(valid_data, '../data/valid_corpus.json')"
   ]
  }
 ],
 "metadata": {
  "kernelspec": {
   "display_name": "Python 3 (ipykernel)",
   "language": "python",
   "name": "python3"
  },
  "language_info": {
   "codemirror_mode": {
    "name": "ipython",
    "version": 3
   },
   "file_extension": ".py",
   "mimetype": "text/x-python",
   "name": "python",
   "nbconvert_exporter": "python",
   "pygments_lexer": "ipython3",
   "version": "3.9.12"
  }
 },
 "nbformat": 4,
 "nbformat_minor": 5
}
